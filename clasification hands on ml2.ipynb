{
 "cells": [
  {
   "cell_type": "code",
   "execution_count": 1,
   "id": "583aaed7",
   "metadata": {},
   "outputs": [],
   "source": [
    "from sklearn.datasets import fetch_openml\n",
    "import pandas as pd\n",
    "mnist = fetch_openml('mnist_784', version=1)"
   ]
  },
  {
   "cell_type": "code",
   "execution_count": 2,
   "id": "96d71b8b",
   "metadata": {},
   "outputs": [],
   "source": [
    "X, y= mnist['data'], mnist['target']\n",
    "\n",
    "X_numpy = X.to_numpy()"
   ]
  },
  {
   "cell_type": "code",
   "execution_count": 3,
   "id": "df55d5f9",
   "metadata": {},
   "outputs": [
    {
     "data": {
      "image/png": "[encoded data removed]",
      "text/plain": [
       "<Figure size 432x288 with 1 Axes>"
      ]
     },
     "metadata": {
      "needs_background": "light"
     },
     "output_type": "display_data"
    }
   ],
   "source": [
    "import matplotlib.pyplot as plt\n",
    "import matplotlib as mpl\n",
    "\n",
    "some_digit = X_numpy[0]\n",
    "image = some_digit.reshape(28,28)\n",
    "\n",
    "plt.imshow(image, cmap = mpl.cm.binary, interpolation=\"nearest\")\n",
    "plt.axis(\"off\")\n",
    "plt.show()"
   ]
  },
  {
   "cell_type": "code",
   "execution_count": 4,
   "id": "0507ab12",
   "metadata": {},
   "outputs": [],
   "source": [
    "import numpy as np\n",
    "y = y.astype(np.uint8)\n",
    "X_train, X_test, y_train, y_test = X[:60000], X[60000:], y[:60000], y[60000:]"
   ]
  },
  {
   "cell_type": "code",
   "execution_count": 23,
   "id": "0adef169",
   "metadata": {},
   "outputs": [],
   "source": [
    "y_train_5 = (y_train == 5)\n",
    "y_test_5 = (y_test == 5)"
   ]
  },
  {
   "cell_type": "code",
   "execution_count": 24,
   "id": "d50dd7bc",
   "metadata": {},
   "outputs": [
    {
     "data": {
      "text/plain": [
       "array([False, False, False, ..., False,  True, False])"
      ]
     },
     "execution_count": 24,
     "metadata": {},
     "output_type": "execute_result"
    }
   ],
   "source": [
    "from sklearn.linear_model import SGDClassifier\n",
    "\n",
    "std_clf = SGDClassifier(random_state = 42)\n",
    "std_clf.fit(X_train, y_train_5)\n",
    "std_clf.predict(X_test)"
   ]
  },
  {
   "cell_type": "code",
   "execution_count": 25,
   "id": "a3772e2b",
   "metadata": {},
   "outputs": [
    {
     "data": {
      "text/plain": [
       "array([[53892,   687],\n",
       "       [ 1891,  3530]], dtype=int64)"
      ]
     },
     "execution_count": 25,
     "metadata": {},
     "output_type": "execute_result"
    }
   ],
   "source": [
    "from sklearn.model_selection import cross_val_score, cross_val_predict\n",
    "y_train_pred = cross_val_predict(std_clf, X_train, y_train_5, cv=3)\n",
    "\n",
    "from sklearn.metrics import confusion_matrix\n",
    "\n",
    "confusion_matrix(y_train_5, y_train_pred)"
   ]
  },
  {
   "cell_type": "code",
   "execution_count": 26,
   "id": "eb6389bb",
   "metadata": {},
   "outputs": [
    {
     "data": {
      "text/plain": [
       "0.7325171197343846"
      ]
     },
     "execution_count": 26,
     "metadata": {},
     "output_type": "execute_result"
    }
   ],
   "source": [
    "from sklearn.metrics import f1_score\n",
    "\n",
    "f1_score(y_train_5, y_train_pred)"
   ]
  },
  {
   "cell_type": "code",
   "execution_count": 27,
   "id": "54385ed4",
   "metadata": {},
   "outputs": [],
   "source": [
    "y_scores = cross_val_predict(std_clf, X_train, y_train_5, cv=3, \n",
    "                             method=\"decision_function\")"
   ]
  },
  {
   "cell_type": "code",
   "execution_count": 28,
   "id": "24181057",
   "metadata": {},
   "outputs": [
    {
     "data": {
      "image/png": "[encoded data removed]",
      "text/plain": [
       "<Figure size 432x288 with 1 Axes>"
      ]
     },
     "metadata": {
      "needs_background": "light"
     },
     "output_type": "display_data"
    }
   ],
   "source": [
    "from sklearn.metrics import roc_curve\n",
    "fpr, tpr, thresholds = roc_curve(y_train_5, y_scores)\n",
    "\n",
    "plt.plot(fpr, tpr, linewidth=2, label=None)\n",
    "plt.ylabel('recall')\n",
    "plt.xlabel('false positive rate')\n",
    "plt.plot([0, 1], [0, 1], 'k--')\n",
    "plt.grid()\n",
    "plt.show()"
   ]
  },
  {
   "cell_type": "code",
   "execution_count": 30,
   "id": "fc628f0d",
   "metadata": {},
   "outputs": [],
   "source": [
    "from sklearn.ensemble import RandomForestClassifier\n",
    "\n",
    "rdf = RandomForestClassifier(random_state = 42)\n",
    "\n",
    "rdf_pred_score = cross_val_predict(rdf, X_train, y_train_5, cv=3, method='predict_proba')\n",
    "# SE TOMA EL [:, 1] PORQUE EN ESA COLUMNA ESTAN LOS PUNTAJES (O PROBABILIDADES DE CLASIFICACIÓN POSITIVA)\n",
    "fpr_forest, tpr_forest, thresholds_forest = roc_curve(y_train_5,rdf_pred_score[:, 1])"
   ]
  },
  {
   "cell_type": "code",
   "execution_count": 33,
   "id": "2b646291",
   "metadata": {},
   "outputs": [
    {
     "data": {
      "text/plain": [
       "0.9983436731328145"
      ]
     },
     "execution_count": 33,
     "metadata": {},
     "output_type": "execute_result"
    }
   ],
   "source": [
    "from sklearn.metrics import roc_auc_score\n",
    "roc_auc_score(y_train_5, rdf_pred_score[:, 1])"
   ]
  },
  {
   "cell_type": "code",
   "execution_count": 35,
   "id": "21e67e4d",
   "metadata": {},
   "outputs": [
    {
     "data": {
      "text/plain": [
       "array([5], dtype=uint8)"
      ]
     },
     "execution_count": 35,
     "metadata": {},
     "output_type": "execute_result"
    }
   ],
   "source": [
    "from sklearn.multiclass import OneVsOneClassifier\n",
    "ovo_clf = OneVsOneClassifier(SGDClassifier(random_state=42))\n",
    "ovo_clf.fit(X_train, y_train)\n",
    "ovo_clf.predict([some_digit])"
   ]
  },
  {
   "cell_type": "code",
   "execution_count": 41,
   "id": "21b706f9",
   "metadata": {},
   "outputs": [],
   "source": [
    "y_pred = ovo_clf.predict(X_test)"
   ]
  },
  {
   "cell_type": "code",
   "execution_count": 59,
   "id": "d0cd19df",
   "metadata": {},
   "outputs": [
    {
     "data": {
      "image/png": "[encoded data removed]",
      "text/plain": [
       "<Figure size 288x288 with 1 Axes>"
      ]
     },
     "metadata": {
      "needs_background": "light"
     },
     "output_type": "display_data"
    },
    {
     "name": "stdout",
     "output_type": "stream",
     "text": [
      "\n",
      "\n",
      "\n",
      " [[ 951    0    7    1    1    8    7    1    2    2]\n",
      " [   0 1120    4    3    0    1    2    1    4    0]\n",
      " [   7   12  928   24    6    2   14   10   25    4]\n",
      " [   1    2   11  920    2   35    2   12   21    4]\n",
      " [   1    1    7    0  919    1    9   15    3   26]\n",
      " [   9    5    5   35    4  777   16    2   29   10]\n",
      " [   7    3    7    1    5   11  922    0    2    0]\n",
      " [   1    5   15   10    4    1    0  942    2   48]\n",
      " [   8    9    8   31    8   31   10    5  832   32]\n",
      " [   3    6    1    8   28    5    1   20    3  934]]\n"
     ]
    }
   ],
   "source": [
    "from sklearn.metrics import confusion_matrix\n",
    "\n",
    "cf_mx = confusion_matrix(y_test, y_pred)\n",
    "plt.matshow(cf_mx, cmap=plt.cm.rainbow_r)\n",
    "plt.show()\n",
    "print('\\n\\n\\n', cf_mx)"
   ]
  },
  {
   "cell_type": "code",
   "execution_count": 61,
   "id": "497b619e",
   "metadata": {},
   "outputs": [
    {
     "data": {
      "image/png": "[encoded data removed]",
      "text/plain": [
       "<Figure size 288x288 with 1 Axes>"
      ]
     },
     "metadata": {
      "needs_background": "light"
     },
     "output_type": "display_data"
    }
   ],
   "source": [
    "sums_mx = cf_mx.sum(axis=1, keepdims=True)\n",
    "norm_conf_mx = cf_mx / sums_mx\n",
    "np.fill_diagonal(norm_conf_mx, 0)\n",
    "plt.matshow(norm_conf_mx, cmap=plt.cm.gray)\n",
    "plt.show()"
   ]
  },
  {
   "cell_type": "code",
   "execution_count": 13,
   "id": "8a0c349c",
   "metadata": {},
   "outputs": [],
   "source": [
    "y_train_large = (y_train >= 7)\n",
    "y_train_odd = (y_train % 2 == 1)\n",
    "y_multilabel = np.c_[y_train_large, y_train_odd]"
   ]
  },
  {
   "cell_type": "code",
   "execution_count": 20,
   "id": "18ca10bd",
   "metadata": {},
   "outputs": [
    {
     "data": {
      "text/plain": [
       "array([[False,  True]])"
      ]
     },
     "execution_count": 20,
     "metadata": {},
     "output_type": "execute_result"
    }
   ],
   "source": [
    "# IMPLEMENTANDO LA CLASIFICACIÓN DE MULTIPLES CLASES BINARIAS CON KNN\n",
    "from sklearn.neighbors import KNeighborsClassifier\n",
    "\n",
    "KN = KNeighborsClassifier()\n",
    "KN.fit(X_train, y_multilabel)\n",
    "KN.predict([some_digit])"
   ]
  },
  {
   "cell_type": "code",
   "execution_count": 30,
   "id": "59953c91",
   "metadata": {},
   "outputs": [
    {
     "data": {
      "text/plain": [
       "0.9778357403921755"
      ]
     },
     "execution_count": 30,
     "metadata": {},
     "output_type": "execute_result"
    }
   ],
   "source": [
    "# CORROBORANDO EL PUNTAJE F1 PARA CADA UNA DE LAS CLASES (try: average=\"weighted\")\n",
    "y_train_knn_pred = cross_val_predict(KN, X_train, y_multilabel, cv=3)\n",
    "f1_score(y_multilabel, y_train_knn_pred, average=\"weighted\")"
   ]
  },
  {
   "cell_type": "code",
   "execution_count": 64,
   "id": "59c6b543",
   "metadata": {},
   "outputs": [],
   "source": [
    "noise = np.random.randint(0, 100, (len(X_train), 784))\n",
    "X_train_mod = X_train + noise\n",
    "noise = np.random.randint(0, 100, (len(X_test), 784))\n",
    "X_test_mod = X_test + noise\n",
    "y_train_mod = X_train\n",
    "y_test_mod = X_test"
   ]
  },
  {
   "cell_type": "code",
   "execution_count": 81,
   "id": "80db7c9b",
   "metadata": {},
   "outputs": [],
   "source": [
    "some_index = X_test_mod.to_numpy()[1]\n",
    "KN.fit(X_train_mod, y_train_mod)\n",
    "clean_digit = KN.predict([X_test_mod.iloc[1]])\n",
    "# plot_digit(clean_digit)"
   ]
  },
  {
   "cell_type": "code",
   "execution_count": 98,
   "id": "13854ae9",
   "metadata": {},
   "outputs": [
    {
     "data": {
      "image/png": "[encoded data removed]",
      "text/plain": [
       "<Figure size 432x288 with 2 Axes>"
      ]
     },
     "metadata": {
      "needs_background": "light"
     },
     "output_type": "display_data"
    }
   ],
   "source": [
    "# FUNCIÓN PARA PLOTEAR EL DIGITO QUE SE MODIFICÓ Y EL QUE SE PREDICE, FALTA AJUSTAR QUE SEA CORRESPONDIENTE AL INDEX\n",
    "def plot_digit_vs_pred(idx: int):\n",
    "    dig = X_test_mod.to_numpy()[idx].reshape(28,28)\n",
    "    pred = KN.predict([X_test_mod.iloc[idx]]).reshape(28,28)\n",
    "#     HACER LOS PLOTS\n",
    "    fig, axs = plt.subplots(1,2)\n",
    "    fig.suptitle('Clasification improvement')\n",
    "    axs[0].imshow(dig, cmap=plt.cm.binary, interpolation='nearest')\n",
    "    axs[1].imshow(pred, cmap=plt.cm.binary, interpolation='nearest')\n",
    "    \n",
    "plot_digit_vs_pred(2)"
   ]
  },
  {
   "cell_type": "code",
   "execution_count": 103,
   "id": "f94d9b2a",
   "metadata": {},
   "outputs": [
    {
     "name": "stdout",
     "output_type": "stream",
     "text": [
      "Fitting 2 folds for each of 6 candidates, totalling 12 fits\n",
      "[CV 1/2] END ....n_neighbors=3, weights=uniform;, score=0.966 total time=  25.8s\n",
      "[CV 2/2] END ....n_neighbors=3, weights=uniform;, score=0.965 total time=  25.6s\n",
      "[CV 1/2] END ...n_neighbors=3, weights=distance;, score=0.967 total time=  25.6s\n",
      "[CV 2/2] END ...n_neighbors=3, weights=distance;, score=0.966 total time=  22.6s\n",
      "[CV 1/2] END ....n_neighbors=4, weights=uniform;, score=0.962 total time=  27.7s\n",
      "[CV 2/2] END ....n_neighbors=4, weights=uniform;, score=0.963 total time=  29.8s\n",
      "[CV 1/2] END ...n_neighbors=4, weights=distance;, score=0.968 total time=  26.3s\n",
      "[CV 2/2] END ...n_neighbors=4, weights=distance;, score=0.966 total time=  24.7s\n",
      "[CV 1/2] END ....n_neighbors=5, weights=uniform;, score=0.963 total time=  26.1s\n",
      "[CV 2/2] END ....n_neighbors=5, weights=uniform;, score=0.964 total time=  25.2s\n",
      "[CV 1/2] END ...n_neighbors=5, weights=distance;, score=0.965 total time=  25.8s\n",
      "[CV 2/2] END ...n_neighbors=5, weights=distance;, score=0.966 total time=  24.7s\n"
     ]
    },
    {
     "data": {
      "text/plain": [
       "GridSearchCV(cv=2, estimator=KNeighborsClassifier(),\n",
       "             param_grid=[{'n_neighbors': [3, 4, 5],\n",
       "                          'weights': ['uniform', 'distance']}],\n",
       "             verbose=3)"
      ]
     },
     "execution_count": 103,
     "metadata": {},
     "output_type": "execute_result"
    }
   ],
   "source": [
    "# HACIENDO LA PREDICCIÓN DE TODO EL DATASET CON GRIDSEARCH\n",
    "from sklearn.metrics import accuracy_score\n",
    "from sklearn.model_selection import GridSearchCV\n",
    "\n",
    "param_grid =[{'weights': [\"uniform\", \"distance\"], \n",
    "              'n_neighbors': [3, 4, 5]}]\n",
    "\n",
    "knn = KNeighborsClassifier()\n",
    "knn_grd = GridSearchCV(knn, param_grid, cv=2, verbose=3)\n",
    "knn_grd.fit(X_train, y_train)"
   ]
  },
  {
   "cell_type": "code",
   "execution_count": 105,
   "id": "5154de3b",
   "metadata": {},
   "outputs": [
    {
     "name": "stdout",
     "output_type": "stream",
     "text": [
      "{'n_neighbors': 4, 'weights': 'distance'}\n",
      "0.96685\n"
     ]
    }
   ],
   "source": [
    "print(knn_grd.best_params_)\n",
    "print(knn_grd.best_score_)"
   ]
  },
  {
   "cell_type": "code",
   "execution_count": 108,
   "id": "eb45ea96",
   "metadata": {},
   "outputs": [],
   "source": [
    "# PROBANDO EL DOBLE ASTERISCO ** INGRESA EL RESULTADO DE AQUELLO QUE ESTA AFECTANDO\n",
    "knn_opt = KNeighborsClassifier(**knn_grd.best_params_)\n",
    "knn_opt.fit(X_train, y_train)\n",
    "y_pred_best_params = knn_opt.predict(X_test)"
   ]
  },
  {
   "cell_type": "code",
   "execution_count": 109,
   "id": "ab17bcc0",
   "metadata": {},
   "outputs": [
    {
     "data": {
      "text/plain": [
       "0.9714"
      ]
     },
     "execution_count": 109,
     "metadata": {},
     "output_type": "execute_result"
    }
   ],
   "source": [
    "accuracy_score(y_test, y_pred_best_params)"
   ]
  }
 ],
 "metadata": {
  "kernelspec": {
   "display_name": "Python 3 (ipykernel)",
   "language": "python",
   "name": "python3"
  },
  "language_info": {
   "codemirror_mode": {
    "name": "ipython",
    "version": 3
   },
   "file_extension": ".py",
   "mimetype": "text/x-python",
   "name": "python",
   "nbconvert_exporter": "python",
   "pygments_lexer": "ipython3",
   "version": "3.9.7"
  }
 },
 "nbformat": 4,
 "nbformat_minor": 5
}
