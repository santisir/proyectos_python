{
 "cells": [
  {
   "cell_type": "code",
   "execution_count": 60,
   "id": "c5686866",
   "metadata": {},
   "outputs": [],
   "source": [
    "from sklearn.ensemble import VotingClassifier\n",
    "from sklearn.tree import DecisionTreeClassifier\n",
    "from sklearn.datasets import load_iris\n",
    "from sklearn.model_selection import train_test_split\n",
    "from sklearn.metrics import accuracy_score\n",
    "import numpy as np"
   ]
  },
  {
   "cell_type": "code",
   "execution_count": 3,
   "id": "d67be545",
   "metadata": {},
   "outputs": [],
   "source": [
    "iris_df = load_iris()\n",
    "tree_clf = DecisionTreeClassifier()\n",
    "vt_clf = VotingClassifier(estimators=[(\"rf\", tree_clf)], voting='hard')"
   ]
  },
  {
   "cell_type": "code",
   "execution_count": 4,
   "id": "59f67c3c",
   "metadata": {},
   "outputs": [],
   "source": [
    "X = iris_df['data']\n",
    "y = iris_df['target']\n",
    "X_train, X_test, y_train, y_test = train_test_split(X, y, test_size=0.3, random_state=42)"
   ]
  },
  {
   "cell_type": "code",
   "execution_count": 5,
   "id": "c4c2300b",
   "metadata": {},
   "outputs": [],
   "source": [
    "vt_clf.fit(X_train, y_train)\n",
    "y_pred = vt_clf.predict(X_test)\n",
    "# accuracy_score(y_test, y_pred)"
   ]
  },
  {
   "cell_type": "code",
   "execution_count": 19,
   "id": "6e077506",
   "metadata": {},
   "outputs": [
    {
     "data": {
      "text/plain": [
       "<matplotlib.image.AxesImage at 0x2bb2b30b8e0>"
      ]
     },
     "execution_count": 19,
     "metadata": {},
     "output_type": "execute_result"
    },
    {
     "data": {
      "image/png": "[encoded data removed]",
      "text/plain": [
       "<Figure size 432x288 with 1 Axes>"
      ]
     },
     "metadata": {
      "needs_background": "light"
     },
     "output_type": "display_data"
    }
   ],
   "source": [
    "from sklearn.datasets import load_digits\n",
    "import matplotlib.pyplot as plt\n",
    "\n",
    "numbers = load_digits()\n",
    "X = numbers['data']\n",
    "y = numbers['target']\n",
    "\n",
    "plt.imshow(X[4].reshape(8,8), cmap='gray')"
   ]
  },
  {
   "cell_type": "code",
   "execution_count": 25,
   "id": "7761a4dc",
   "metadata": {},
   "outputs": [],
   "source": [
    "from sklearn.preprocessing import StandardScaler\n",
    "from sklearn.pipeline import Pipeline\n",
    "\n",
    "X_train, X_test, y_train, y_test = train_test_split(X, y, test_size=0.2, random_state=42)"
   ]
  },
  {
   "cell_type": "code",
   "execution_count": 69,
   "id": "5cc136bd",
   "metadata": {},
   "outputs": [
    {
     "data": {
      "text/plain": [
       "Pipeline(steps=[('slr', StandardScaler()),\n",
       "                ('vote',\n",
       "                 VotingClassifier(estimators=[('lr', LogisticRegression()),\n",
       "                                              ('rf', RandomForestClassifier()),\n",
       "                                              ('svc', SVC(max_iter=9000))]))])"
      ]
     },
     "execution_count": 69,
     "metadata": {},
     "output_type": "execute_result"
    }
   ],
   "source": [
    "from sklearn.ensemble import RandomForestClassifier\n",
    "from sklearn.linear_model import LogisticRegression \n",
    "from sklearn.svm import SVC\n",
    "\n",
    "# CREAMOS EL VOTING CLASSIFIER Y LA PIPELINE PARA EL TRATAMIENTO DE LOS DATOS\n",
    "\n",
    "rdf_clf = RandomForestClassifier()\n",
    "lr_clf = LogisticRegression()\n",
    "svc_clf = SVC(max_iter=9000)\n",
    "\n",
    "voting_clf = VotingClassifier(\n",
    "    estimators=[('lr', lr_clf), ('rf', rdf_clf), ('svc', svc_clf)],\n",
    "    voting='hard')\n",
    "\n",
    "scaler = StandardScaler()\n",
    "\n",
    "pipe = Pipeline([('slr', scaler),\n",
    "                ('vote', voting_clf)])\n",
    "\n",
    "pipe.fit(X_train, y_train)"
   ]
  },
  {
   "cell_type": "code",
   "execution_count": 73,
   "id": "fc7658f4",
   "metadata": {},
   "outputs": [
    {
     "name": "stdout",
     "output_type": "stream",
     "text": [
      "0.9833333333333333\n"
     ]
    }
   ],
   "source": [
    "#PREPARAR LA DATA PARA TRABAJAR CON ELLA EN EL PLOTEO \n",
    "\n",
    "y_pred_pipe = pipe.predict(X_test)\n",
    "print(accuracy_score(y_test, y_pred_pipe))\n",
    "\n",
    "X_reshaped = [X_test[i].reshape(8,8) for i in range(X_test.shape[0])]"
   ]
  },
  {
   "cell_type": "code",
   "execution_count": 92,
   "id": "f1c87d14",
   "metadata": {},
   "outputs": [],
   "source": [
    "# CREADA UNA FUNCIÓN QUE PLOTEA LOS 9 DIGITOS DESPUES DE EL INDICE INDICADO CON SU RESPECTIVA ETIQUETA PREDECIDA POR EL VOTING\n",
    "# CLASSIFIER\n",
    "def plot_nine_digits(idx):\n",
    "    fig, axs = plt.subplots(3,3)\n",
    "    digits = 0\n",
    "    for i in range(0,3):\n",
    "        for j in range(0,3):\n",
    "            axs[i,j].imshow(X_reshaped[digits + idx], cmap='binary')\n",
    "            axs[i,j].set_title(y_pred_pipe[digits + idx])\n",
    "            digits += 1\n",
    "\n",
    "    for ax in axs.flat:\n",
    "        ax.label_outer()\n",
    "\n",
    "    fig.tight_layout()"
   ]
  },
  {
   "cell_type": "code",
   "execution_count": 99,
   "id": "e78903a0",
   "metadata": {},
   "outputs": [
    {
     "data": {
      "image/png": "[encoded data removed]",
      "text/plain": [
       "<Figure size 432x288 with 9 Axes>"
      ]
     },
     "metadata": {
      "needs_background": "light"
     },
     "output_type": "display_data"
    }
   ],
   "source": [
    "plot_nine_digits(10)"
   ]
  }
 ],
 "metadata": {
  "kernelspec": {
   "display_name": "Python 3 (ipykernel)",
   "language": "python",
   "name": "python3"
  },
  "language_info": {
   "codemirror_mode": {
    "name": "ipython",
    "version": 3
   },
   "file_extension": ".py",
   "mimetype": "text/x-python",
   "name": "python",
   "nbconvert_exporter": "python",
   "pygments_lexer": "ipython3",
   "version": "3.9.7"
  }
 },
 "nbformat": 4,
 "nbformat_minor": 5
}
